{
 "cells": [
  {
   "cell_type": "code",
   "execution_count": 8,
   "metadata": {},
   "outputs": [],
   "source": [
    "import numpy as np\n",
    "import pandas as pd\n",
    "import matplotlib.pyplot as plt\n",
    "import seaborn as sns\n",
    "from sklearn.preprocessing import StandardScaler\n",
    "import lightgbm as lgb \n",
    "from sklearn.model_selection import train_test_split\n",
    "from sklearn.metrics import accuracy_score\n",
    "from sklearn.metrics import confusion_matrix\n",
    "from sklearn.ensemble import RandomForestClassifier\n",
    "import xgboost as xgb"
   ]
  },
  {
   "cell_type": "code",
   "execution_count": 2,
   "metadata": {},
   "outputs": [],
   "source": [
    "df = pd.read_csv('01_dataset.csv', index_col='customer_id')"
   ]
  },
  {
   "cell_type": "code",
   "execution_count": 3,
   "metadata": {},
   "outputs": [],
   "source": [
    "X = df.drop(columns='label')\n",
    "y = df['label']\n",
    "\n",
    "X_train, X_test, y_train, y_test = train_test_split(X, y, test_size=0.2, random_state=42)\n",
    "\n",
    "train_data = lgb.Dataset(X_train, label=y_train)\n",
    "test_data = lgb.Dataset(X_test, label=y_test)"
   ]
  },
  {
   "cell_type": "code",
   "execution_count": 14,
   "metadata": {},
   "outputs": [
    {
     "name": "stdout",
     "output_type": "stream",
     "text": [
      "[LightGBM] [Info] Number of positive: 2908, number of negative: 13092\n",
      "[LightGBM] [Info] Auto-choosing col-wise multi-threading, the overhead of testing was 0.009139 seconds.\n",
      "You can set `force_col_wise=true` to remove the overhead.\n",
      "[LightGBM] [Info] Total Bins 10153\n",
      "[LightGBM] [Info] Number of data points in the train set: 16000, number of used features: 122\n",
      "[LightGBM] [Info] [binary:BoostFromScore]: pavg=0.181750 -> initscore=-1.504536\n",
      "[LightGBM] [Info] Start training from score -1.504536\n"
     ]
    }
   ],
   "source": [
    "param = {'num_leaves': 100, 'objective': 'binary'}\n",
    "param['metric'] = 'auc'\n",
    "\n",
    "num_round = 100\n",
    "bst = lgb.train(param, train_data, num_round, valid_sets=[test_data])"
   ]
  },
  {
   "cell_type": "code",
   "execution_count": 15,
   "metadata": {},
   "outputs": [
    {
     "name": "stdout",
     "output_type": "stream",
     "text": [
      "Accuracy for train data: 99.7875%\n",
      "Accuracy for test data: 88.47500000000001%\n"
     ]
    }
   ],
   "source": [
    "ybar = bst.predict(X_train)\n",
    "ybar = [1 if x >= 0.5 else 0 for x in ybar]\n",
    "ypred = bst.predict(X_test)\n",
    "ypred = [1 if x >= 0.5 else 0 for x in ypred]\n",
    "print('Accuracy for train data: {}%'.format(accuracy_score(y_train, ybar)*100))\n",
    "print('Accuracy for test data: {}%'.format(accuracy_score(y_test, ypred)*100))"
   ]
  },
  {
   "cell_type": "code",
   "execution_count": 10,
   "metadata": {},
   "outputs": [
    {
     "name": "stdout",
     "output_type": "stream",
     "text": [
      "Accuracy for train data: 99.97500000000001%\n",
      "Accuracy for test data: 88.675%\n"
     ]
    }
   ],
   "source": [
    "model = RandomForestClassifier(n_estimators=100, random_state=42)\n",
    "model.fit(X_train, y_train)\n",
    "ybar = model.predict(X_train)\n",
    "ypred = model.predict(X_test)\n",
    "print('Accuracy for train data: {}%'.format(accuracy_score(y_train, ybar)*100))\n",
    "print('Accuracy for test data: {}%'.format(accuracy_score(y_test, ypred)*100))"
   ]
  },
  {
   "cell_type": "code",
   "execution_count": 11,
   "metadata": {},
   "outputs": [
    {
     "name": "stdout",
     "output_type": "stream",
     "text": [
      "Accuracy for train data: 98.85000000000001%\n",
      "Accuracy for test data: 88.02499999999999%\n"
     ]
    }
   ],
   "source": [
    "model = xgb.XGBClassifier(n_estimators=100, random_state=42)\n",
    "model.fit(X_train, y_train)\n",
    "ybar = model.predict(X_train)\n",
    "ypred = model.predict(X_test)\n",
    "print('Accuracy for train data: {}%'.format(accuracy_score(y_train, ybar)*100))\n",
    "print('Accuracy for test data: {}%'.format(accuracy_score(y_test, ypred)*100))"
   ]
  },
  {
   "cell_type": "code",
   "execution_count": null,
   "metadata": {},
   "outputs": [],
   "source": []
  }
 ],
 "metadata": {
  "kernelspec": {
   "display_name": "Python 3",
   "language": "python",
   "name": "python3"
  },
  "language_info": {
   "codemirror_mode": {
    "name": "ipython",
    "version": 3
   },
   "file_extension": ".py",
   "mimetype": "text/x-python",
   "name": "python",
   "nbconvert_exporter": "python",
   "pygments_lexer": "ipython3",
   "version": "3.12.5"
  }
 },
 "nbformat": 4,
 "nbformat_minor": 2
}
