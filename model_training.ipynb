{
 "cells": [
  {
   "cell_type": "code",
   "execution_count": 79,
   "metadata": {},
   "outputs": [],
   "source": [
    "import numpy as np\n",
    "import pandas as pd\n",
    "import matplotlib.pyplot as plt\n",
    "import seaborn as sns\n",
    "from sklearn.preprocessing import StandardScaler\n",
    "import lightgbm as lgb \n",
    "from sklearn.model_selection import train_test_split, cross_val_score, RepeatedStratifiedKFold, GridSearchCV\n",
    "from sklearn.metrics import accuracy_score, precision_score, recall_score, f1_score, roc_auc_score, roc_curve, auc\n",
    "from sklearn.metrics import confusion_matrix\n",
    "from sklearn.ensemble import RandomForestClassifier\n",
    "import xgboost as xgb\n",
    "from sklearn.metrics import classification_report\n",
    "from sklearn.svm import SVC\n",
    "import time"
   ]
  },
  {
   "cell_type": "markdown",
   "metadata": {},
   "source": [
    "##### Load data và chọn lựa features, chia thành train và test"
   ]
  },
  {
   "cell_type": "code",
   "execution_count": 80,
   "metadata": {},
   "outputs": [],
   "source": [
    "# Load data\n",
    "df = pd.read_csv('01_dataset.csv', index_col='customer_id')\n",
    "df_imputed = pd.read_csv('cleaned_data_new.csv', index_col='customer_id')"
   ]
  },
  {
   "cell_type": "code",
   "execution_count": 81,
   "metadata": {},
   "outputs": [],
   "source": [
    "# Loại bỏ các cột không cần thiết\n",
    "drop_cols = [col for col in df.columns if 'OUTSTANDING' in col]\n",
    "drop_cols += ['label', 'CREDIT_CARD_MONTH_SINCE_10DPD', 'CREDIT_CARD_MONTH_SINCE_30DPD',\n",
    "       'CREDIT_CARD_MONTH_SINCE_60DPD', 'CREDIT_CARD_MONTH_SINCE_90DPD',\n",
    "       'CREDIT_CARD_NUMBER_OF_LATE_PAYMENT']"
   ]
  },
  {
   "cell_type": "code",
   "execution_count": 217,
   "metadata": {},
   "outputs": [],
   "source": [
    "# Chia dữ liệu thành tập train và test, chuẩn hóa dữ liệu\n",
    "X = df_imputed.drop(columns=drop_cols, axis=1)\n",
    "y = df_imputed['label']\n",
    "\n",
    "X_train, X_test, y_train, y_test = train_test_split(X, y, test_size=0.2, random_state=42, stratify=y)\n",
    "\n",
    "scaler = StandardScaler()\n",
    "X_train_scaled = scaler.fit_transform(X_train)\n",
    "X_test_scaled = scaler.transform(X_test)\n",
    "\n",
    "train_data = lgb.Dataset(X_train, label=y_train)\n",
    "test_data = lgb.Dataset(X_test, label=y_test)"
   ]
  },
  {
   "cell_type": "markdown",
   "metadata": {},
   "source": [
    "##### LightGBM"
   ]
  },
  {
   "cell_type": "code",
   "execution_count": 218,
   "metadata": {},
   "outputs": [
    {
     "name": "stdout",
     "output_type": "stream",
     "text": [
      "[LightGBM] [Info] Number of positive: 2915, number of negative: 13085\n",
      "[LightGBM] [Info] Auto-choosing col-wise multi-threading, the overhead of testing was 0.006625 seconds.\n",
      "You can set `force_col_wise=true` to remove the overhead.\n",
      "[LightGBM] [Info] Total Bins 9918\n",
      "[LightGBM] [Info] Number of data points in the train set: 16000, number of used features: 108\n",
      "[LightGBM] [Info] [binary:BoostFromScore]: pavg=0.182188 -> initscore=-1.501597\n",
      "[LightGBM] [Info] Start training from score -1.501597\n"
     ]
    }
   ],
   "source": [
    "param = {'num_leaves': 75, 'objective': 'binary'}\n",
    "param['metric'] = 'auc'\n",
    "\n",
    "t1 = time.time()\n",
    "num_round = 100\n",
    "bst = lgb.train(param, train_data, num_round)\n",
    "t2 = time.time()\n",
    "t_lgb = t2 - t1"
   ]
  },
  {
   "cell_type": "code",
   "execution_count": 220,
   "metadata": {},
   "outputs": [
    {
     "name": "stdout",
     "output_type": "stream",
     "text": [
      "Accuracy for train data: 98.5375%\n",
      "Accuracy for validation data: 91.95%\n",
      "AUC: 0.9005191316297898\n"
     ]
    }
   ],
   "source": [
    "ybar_proba_lgm = bst.predict(X_train)\n",
    "ybar_lgm = [1 if x >= 0.5 else 0 for x in ybar_proba_lgm]\n",
    "ypred_proba_lgm = bst.predict(X_test)\n",
    "ypred_lgm = [1 if x >= 0.5 else 0 for x in ypred_proba_lgm]\n",
    "print('Accuracy for train data: {}%'.format(accuracy_score(y_train, ybar_lgm)*100))\n",
    "print('Accuracy for validation data: {}%'.format(accuracy_score(y_test, ypred_lgm)*100))\n",
    "auc_lgm = roc_auc_score(y_test, ypred_proba_lgm)\n",
    "print('AUC: {}'.format(auc_lgm))"
   ]
  },
  {
   "cell_type": "markdown",
   "metadata": {},
   "source": [
    "##### Random Forest Classifier"
   ]
  },
  {
   "cell_type": "code",
   "execution_count": 221,
   "metadata": {},
   "outputs": [
    {
     "name": "stdout",
     "output_type": "stream",
     "text": [
      "Accuracy for train data: 98.6125%\n",
      "Accuracy for test data: 89.1%\n",
      "AUC: 0.7212146983991589\n"
     ]
    }
   ],
   "source": [
    "rfc = RandomForestClassifier(n_estimators=10, random_state=42, max_depth=30)\n",
    "t1 = time.time()\n",
    "rfc.fit(X_train_scaled, y_train)\n",
    "t2 = time.time()\n",
    "ybar_rfc = rfc.predict(X_train_scaled)\n",
    "ypred_rfc = rfc.predict(X_test_scaled)\n",
    "t_rfc = t2 - t1\n",
    "print('Accuracy for train data: {}%'.format(accuracy_score(y_train, ybar_rfc)*100))\n",
    "print('Accuracy for test data: {}%'.format(accuracy_score(y_test, ypred_rfc)*100))\n",
    "auc_rfc = roc_auc_score(y_test, ypred_rfc)\n",
    "print('AUC: {}'.format(auc_rfc))"
   ]
  },
  {
   "cell_type": "markdown",
   "metadata": {},
   "source": [
    "##### XGBoost"
   ]
  },
  {
   "cell_type": "code",
   "execution_count": 222,
   "metadata": {},
   "outputs": [
    {
     "name": "stdout",
     "output_type": "stream",
     "text": [
      "Accuracy for train data: 97.9375%\n",
      "Accuracy for test data: 91.475%\n",
      "AUC: 0.7826413605199116\n"
     ]
    }
   ],
   "source": [
    "xgb_model = xgb.XGBClassifier(random_state=42)\n",
    "t1 = time.time()\n",
    "xgb_model.fit(X_train_scaled, y_train)\n",
    "t2 = time.time()\n",
    "t_xgb = t2 - t1\n",
    "ybar_xgb = xgb_model.predict(X_train_scaled)\n",
    "ypred_xgb = xgb_model.predict(X_test_scaled)\n",
    "print('Accuracy for train data: {}%'.format(accuracy_score(y_train, ybar_xgb)*100))\n",
    "print('Accuracy for test data: {}%'.format(accuracy_score(y_test, ypred_xgb)*100))\n",
    "auc_xgb = roc_auc_score(y_test, ypred_xgb)\n",
    "print('AUC: {}'.format(auc_xgb))"
   ]
  },
  {
   "cell_type": "markdown",
   "metadata": {},
   "source": [
    "##### SVM"
   ]
  },
  {
   "cell_type": "code",
   "execution_count": 224,
   "metadata": {},
   "outputs": [
    {
     "name": "stderr",
     "output_type": "stream",
     "text": [
      "c:\\Users\\HP\\AppData\\Local\\Programs\\Python\\Python312\\Lib\\site-packages\\sklearn\\base.py:493: UserWarning: X does not have valid feature names, but SVC was fitted with feature names\n",
      "  warnings.warn(\n",
      "c:\\Users\\HP\\AppData\\Local\\Programs\\Python\\Python312\\Lib\\site-packages\\sklearn\\base.py:493: UserWarning: X does not have valid feature names, but SVC was fitted with feature names\n",
      "  warnings.warn(\n"
     ]
    },
    {
     "name": "stdout",
     "output_type": "stream",
     "text": [
      "Accuracy for train data: 81.78125%\n",
      "Accuracy for test data: 81.77499999999999%\n",
      "AUC: 0.5\n"
     ]
    }
   ],
   "source": [
    "svm_model = SVC(gamma='scale', random_state=42)\n",
    "t1 = time.time()\n",
    "svm_model.fit(X_train, y_train)\n",
    "t2 = time.time()\n",
    "t_svm = t2 - t1\n",
    "ybar_svm = svm_model.predict(X_train_scaled)\n",
    "ypred_svm = svm_model.predict(X_test_scaled)\n",
    "print('Accuracy for train data: {}%'.format(accuracy_score(y_train, ybar_svm)*100))\n",
    "print('Accuracy for test data: {}%'.format(accuracy_score(y_test, ypred_svm)*100))\n",
    "auc_svm = roc_auc_score(y_test, ypred_svm)\n",
    "print('AUC: {}'.format(auc_svm))"
   ]
  },
  {
   "cell_type": "code",
   "execution_count": 225,
   "metadata": {},
   "outputs": [
    {
     "data": {
      "text/html": [
       "<div>\n",
       "<style scoped>\n",
       "    .dataframe tbody tr th:only-of-type {\n",
       "        vertical-align: middle;\n",
       "    }\n",
       "\n",
       "    .dataframe tbody tr th {\n",
       "        vertical-align: top;\n",
       "    }\n",
       "\n",
       "    .dataframe thead th {\n",
       "        text-align: right;\n",
       "    }\n",
       "</style>\n",
       "<table border=\"1\" class=\"dataframe\">\n",
       "  <thead>\n",
       "    <tr style=\"text-align: right;\">\n",
       "      <th></th>\n",
       "      <th>LightGBM</th>\n",
       "      <th>Random Forest</th>\n",
       "      <th>XGBoost</th>\n",
       "      <th>SVM</th>\n",
       "    </tr>\n",
       "  </thead>\n",
       "  <tbody>\n",
       "    <tr>\n",
       "      <th>Train</th>\n",
       "      <td>98.54%</td>\n",
       "      <td>98.61%</td>\n",
       "      <td>97.94%</td>\n",
       "      <td>81.78%</td>\n",
       "    </tr>\n",
       "    <tr>\n",
       "      <th>Test</th>\n",
       "      <td>91.95%</td>\n",
       "      <td>89.10%</td>\n",
       "      <td>91.47%</td>\n",
       "      <td>81.77%</td>\n",
       "    </tr>\n",
       "    <tr>\n",
       "      <th>AUC_score</th>\n",
       "      <td>0.90</td>\n",
       "      <td>0.72</td>\n",
       "      <td>0.78</td>\n",
       "      <td>0.50</td>\n",
       "    </tr>\n",
       "    <tr>\n",
       "      <th>Time</th>\n",
       "      <td>0.66s</td>\n",
       "      <td>0.53s</td>\n",
       "      <td>0.49s</td>\n",
       "      <td>13.63s</td>\n",
       "    </tr>\n",
       "  </tbody>\n",
       "</table>\n",
       "</div>"
      ],
      "text/plain": [
       "          LightGBM Random Forest  XGBoost      SVM\n",
       "Train       98.54%        98.61%   97.94%   81.78%\n",
       "Test        91.95%        89.10%   91.47%   81.77%\n",
       "AUC_score     0.90          0.72     0.78     0.50\n",
       "Time         0.66s         0.53s    0.49s   13.63s"
      ]
     },
     "execution_count": 225,
     "metadata": {},
     "output_type": "execute_result"
    }
   ],
   "source": [
    "table = dict({'LightGBM': [f'{accuracy_score(y_train, ybar_lgm)*100: .2f}%', f'{accuracy_score(y_test, ypred_lgm)*100: .2f}%', f'{auc_lgm: .2f}', f'{t_lgb: .2f}s'],\n",
    "              'Random Forest': [f'{accuracy_score(y_train, ybar_rfc)*100: .2f}%', f'{accuracy_score(y_test, ypred_rfc)*100: .2f}%', f'{auc_rfc: .2f}', f'{t_rfc: .2f}s'],\n",
    "                'XGBoost': [f'{accuracy_score(y_train, ybar_xgb)*100: .2f}%', f'{accuracy_score(y_test, ypred_xgb)*100: .2f}%', f'{auc_xgb: .2f}', f'{t_xgb: .2f}s'],\n",
    "                'SVM': [f'{accuracy_score(y_train, ybar_svm)*100: .2f}%', f'{accuracy_score(y_test, ypred_svm)*100: .2f}%', f'{auc_svm: .2f}', f'{t_svm: .2f}s']})\n",
    "table = pd.DataFrame(table, index=['Train', 'Test', 'AUC_score','Time'])\n",
    "table"
   ]
  },
  {
   "cell_type": "code",
   "execution_count": 226,
   "metadata": {},
   "outputs": [],
   "source": [
    "X_val, X_test, y_val, y_test = train_test_split(X_test, y_test, test_size=0.5, random_state=42, stratify=y_test)\n",
    "\n",
    "test_data = lgb.Dataset(X_test, label=y_test)\n",
    "val_data = lgb.Dataset(X_val, label=y_val)"
   ]
  },
  {
   "cell_type": "code",
   "execution_count": 261,
   "metadata": {},
   "outputs": [
    {
     "data": {
      "text/plain": [
       "Text(50.722222222222214, 0.5, 'True')"
      ]
     },
     "execution_count": 261,
     "metadata": {},
     "output_type": "execute_result"
    },
    {
     "data": {
      "image/png": "[encoded data removed]",
      "text/plain": [
       "<Figure size 640x480 with 2 Axes>"
      ]
     },
     "metadata": {},
     "output_type": "display_data"
    }
   ],
   "source": [
    "ypred_proba = bst.predict(X_test)\n",
    "ypred = [1 if x >= 0.5 else 0 for x in ypred_proba]\n",
    "\n",
    "cm = confusion_matrix(y_test, ypred)\n",
    "sns.heatmap(cm, annot=True, fmt='d')\n",
    "plt.xlabel('Predicted')\n",
    "plt.ylabel('True')"
   ]
  },
  {
   "cell_type": "markdown",
   "metadata": {},
   "source": [
    "#### Tìm siêu tham số cho mô hình bằng Grid Search"
   ]
  },
  {
   "cell_type": "code",
   "execution_count": 227,
   "metadata": {},
   "outputs": [],
   "source": [
    "param_grid = {'boosting_type':['gbdt'], 'num_leaves': [50, 75, 100, 200], 'max_depth': [-1, 10, 20, 30], 'learning_rate': [0.1, 0.05, 0.2], 'n_estimators': [100, 200, 300, 400]}\n",
    "\n",
    "param_list = [(boosting_type, num_leaves, max_depth, learning_rate, n_estimators) for boosting_type in param_grid['boosting_type'] for num_leaves in param_grid['num_leaves'] for max_depth in param_grid['max_depth'] for learning_rate in param_grid['learning_rate'] for n_estimators in param_grid['n_estimators']]\n",
    "print(param_list)\n",
    "results = {'num_leaves':[], 'max_depth':[], 'learning_rate':[], 'n_estimators':[], 'accuracy_train':[], 'accuracy_val':[], 'accuracy_train':[]}\n",
    "for boosting_type, num_leaves, max_depth, learning_rate, n_estimators in param_list:\n",
    "\n",
    "    model = lgb.LGBMClassifier(boosting_type=boosting_type, num_leaves=num_leaves, max_depth=max_depth, learning_rate=learning_rate, n_estimators=n_estimators)\n",
    "\n",
    "    results['num_leaves'].append(num_leaves)\n",
    "    results['max_depth'].append(max_depth)\n",
    "    results['learning_rate'].append(learning_rate)\n",
    "    results['n_estimators'].append(n_estimators)\n",
    "\n",
    "    model.fit(X_train, y_train)\n",
    "\n",
    "    y_bar = model.predict(X_train)\n",
    "    y_pred = model.predict(X_test)\n",
    "\n",
    "    accuracy_train = accuracy_score(y_train, y_bar)\n",
    "    accuracy_val = accuracy_score(y_test, y_pred)\n",
    "    \n",
    "    results['accuracy_train'].append(accuracy_train)\n",
    "    results['accuracy_val'].append(accuracy_val)\n",
    "\n",
    "    print(f'num_leaves: {num_leaves}, max_depth: {max_depth}, learning_rate: {learning_rate}, n_estimators: {n_estimators}, accuracy_train: {accuracy_train}, accuracy_val: {accuracy_val}')\n"
   ]
  },
  {
   "cell_type": "code",
   "execution_count": 81,
   "metadata": {},
   "outputs": [
    {
     "data": {
      "text/html": [
       "<div>\n",
       "<style scoped>\n",
       "    .dataframe tbody tr th:only-of-type {\n",
       "        vertical-align: middle;\n",
       "    }\n",
       "\n",
       "    .dataframe tbody tr th {\n",
       "        vertical-align: top;\n",
       "    }\n",
       "\n",
       "    .dataframe thead th {\n",
       "        text-align: right;\n",
       "    }\n",
       "</style>\n",
       "<table border=\"1\" class=\"dataframe\">\n",
       "  <thead>\n",
       "    <tr style=\"text-align: right;\">\n",
       "      <th></th>\n",
       "      <th>num_leaves</th>\n",
       "      <th>max_depth</th>\n",
       "      <th>learning_rate</th>\n",
       "      <th>n_estimators</th>\n",
       "      <th>accuracy_train</th>\n",
       "      <th>accuracy_val</th>\n",
       "    </tr>\n",
       "  </thead>\n",
       "  <tbody>\n",
       "    <tr>\n",
       "      <th>57</th>\n",
       "      <td>75</td>\n",
       "      <td>-1</td>\n",
       "      <td>0.20</td>\n",
       "      <td>200</td>\n",
       "      <td>1.000000</td>\n",
       "      <td>0.9260</td>\n",
       "    </tr>\n",
       "    <tr>\n",
       "      <th>49</th>\n",
       "      <td>75</td>\n",
       "      <td>-1</td>\n",
       "      <td>0.10</td>\n",
       "      <td>200</td>\n",
       "      <td>0.999875</td>\n",
       "      <td>0.9255</td>\n",
       "    </tr>\n",
       "    <tr>\n",
       "      <th>143</th>\n",
       "      <td>100</td>\n",
       "      <td>30</td>\n",
       "      <td>0.20</td>\n",
       "      <td>400</td>\n",
       "      <td>1.000000</td>\n",
       "      <td>0.9255</td>\n",
       "    </tr>\n",
       "    <tr>\n",
       "      <th>129</th>\n",
       "      <td>100</td>\n",
       "      <td>20</td>\n",
       "      <td>0.20</td>\n",
       "      <td>200</td>\n",
       "      <td>1.000000</td>\n",
       "      <td>0.9255</td>\n",
       "    </tr>\n",
       "    <tr>\n",
       "      <th>11</th>\n",
       "      <td>50</td>\n",
       "      <td>-1</td>\n",
       "      <td>0.20</td>\n",
       "      <td>400</td>\n",
       "      <td>1.000000</td>\n",
       "      <td>0.9250</td>\n",
       "    </tr>\n",
       "    <tr>\n",
       "      <th>38</th>\n",
       "      <td>50</td>\n",
       "      <td>30</td>\n",
       "      <td>0.10</td>\n",
       "      <td>300</td>\n",
       "      <td>0.999687</td>\n",
       "      <td>0.9250</td>\n",
       "    </tr>\n",
       "    <tr>\n",
       "      <th>58</th>\n",
       "      <td>75</td>\n",
       "      <td>-1</td>\n",
       "      <td>0.20</td>\n",
       "      <td>300</td>\n",
       "      <td>1.000000</td>\n",
       "      <td>0.9250</td>\n",
       "    </tr>\n",
       "    <tr>\n",
       "      <th>59</th>\n",
       "      <td>75</td>\n",
       "      <td>-1</td>\n",
       "      <td>0.20</td>\n",
       "      <td>400</td>\n",
       "      <td>1.000000</td>\n",
       "      <td>0.9250</td>\n",
       "    </tr>\n",
       "    <tr>\n",
       "      <th>87</th>\n",
       "      <td>75</td>\n",
       "      <td>30</td>\n",
       "      <td>0.10</td>\n",
       "      <td>400</td>\n",
       "      <td>1.000000</td>\n",
       "      <td>0.9250</td>\n",
       "    </tr>\n",
       "    <tr>\n",
       "      <th>51</th>\n",
       "      <td>75</td>\n",
       "      <td>-1</td>\n",
       "      <td>0.10</td>\n",
       "      <td>400</td>\n",
       "      <td>1.000000</td>\n",
       "      <td>0.9250</td>\n",
       "    </tr>\n",
       "    <tr>\n",
       "      <th>2</th>\n",
       "      <td>50</td>\n",
       "      <td>-1</td>\n",
       "      <td>0.10</td>\n",
       "      <td>300</td>\n",
       "      <td>0.999750</td>\n",
       "      <td>0.9245</td>\n",
       "    </tr>\n",
       "    <tr>\n",
       "      <th>47</th>\n",
       "      <td>50</td>\n",
       "      <td>30</td>\n",
       "      <td>0.20</td>\n",
       "      <td>400</td>\n",
       "      <td>1.000000</td>\n",
       "      <td>0.9245</td>\n",
       "    </tr>\n",
       "    <tr>\n",
       "      <th>33</th>\n",
       "      <td>50</td>\n",
       "      <td>20</td>\n",
       "      <td>0.20</td>\n",
       "      <td>200</td>\n",
       "      <td>1.000000</td>\n",
       "      <td>0.9245</td>\n",
       "    </tr>\n",
       "    <tr>\n",
       "      <th>135</th>\n",
       "      <td>100</td>\n",
       "      <td>30</td>\n",
       "      <td>0.10</td>\n",
       "      <td>400</td>\n",
       "      <td>1.000000</td>\n",
       "      <td>0.9245</td>\n",
       "    </tr>\n",
       "    <tr>\n",
       "      <th>142</th>\n",
       "      <td>100</td>\n",
       "      <td>30</td>\n",
       "      <td>0.20</td>\n",
       "      <td>300</td>\n",
       "      <td>1.000000</td>\n",
       "      <td>0.9240</td>\n",
       "    </tr>\n",
       "    <tr>\n",
       "      <th>131</th>\n",
       "      <td>100</td>\n",
       "      <td>20</td>\n",
       "      <td>0.20</td>\n",
       "      <td>400</td>\n",
       "      <td>1.000000</td>\n",
       "      <td>0.9240</td>\n",
       "    </tr>\n",
       "    <tr>\n",
       "      <th>103</th>\n",
       "      <td>100</td>\n",
       "      <td>-1</td>\n",
       "      <td>0.05</td>\n",
       "      <td>400</td>\n",
       "      <td>1.000000</td>\n",
       "      <td>0.9240</td>\n",
       "    </tr>\n",
       "    <tr>\n",
       "      <th>50</th>\n",
       "      <td>75</td>\n",
       "      <td>-1</td>\n",
       "      <td>0.10</td>\n",
       "      <td>300</td>\n",
       "      <td>1.000000</td>\n",
       "      <td>0.9235</td>\n",
       "    </tr>\n",
       "    <tr>\n",
       "      <th>35</th>\n",
       "      <td>50</td>\n",
       "      <td>20</td>\n",
       "      <td>0.20</td>\n",
       "      <td>400</td>\n",
       "      <td>1.000000</td>\n",
       "      <td>0.9235</td>\n",
       "    </tr>\n",
       "    <tr>\n",
       "      <th>34</th>\n",
       "      <td>50</td>\n",
       "      <td>20</td>\n",
       "      <td>0.20</td>\n",
       "      <td>300</td>\n",
       "      <td>1.000000</td>\n",
       "      <td>0.9235</td>\n",
       "    </tr>\n",
       "  </tbody>\n",
       "</table>\n",
       "</div>"
      ],
      "text/plain": [
       "     num_leaves  max_depth  learning_rate  n_estimators  accuracy_train  \\\n",
       "57           75         -1           0.20           200        1.000000   \n",
       "49           75         -1           0.10           200        0.999875   \n",
       "143         100         30           0.20           400        1.000000   \n",
       "129         100         20           0.20           200        1.000000   \n",
       "11           50         -1           0.20           400        1.000000   \n",
       "38           50         30           0.10           300        0.999687   \n",
       "58           75         -1           0.20           300        1.000000   \n",
       "59           75         -1           0.20           400        1.000000   \n",
       "87           75         30           0.10           400        1.000000   \n",
       "51           75         -1           0.10           400        1.000000   \n",
       "2            50         -1           0.10           300        0.999750   \n",
       "47           50         30           0.20           400        1.000000   \n",
       "33           50         20           0.20           200        1.000000   \n",
       "135         100         30           0.10           400        1.000000   \n",
       "142         100         30           0.20           300        1.000000   \n",
       "131         100         20           0.20           400        1.000000   \n",
       "103         100         -1           0.05           400        1.000000   \n",
       "50           75         -1           0.10           300        1.000000   \n",
       "35           50         20           0.20           400        1.000000   \n",
       "34           50         20           0.20           300        1.000000   \n",
       "\n",
       "     accuracy_val  \n",
       "57         0.9260  \n",
       "49         0.9255  \n",
       "143        0.9255  \n",
       "129        0.9255  \n",
       "11         0.9250  \n",
       "38         0.9250  \n",
       "58         0.9250  \n",
       "59         0.9250  \n",
       "87         0.9250  \n",
       "51         0.9250  \n",
       "2          0.9245  \n",
       "47         0.9245  \n",
       "33         0.9245  \n",
       "135        0.9245  \n",
       "142        0.9240  \n",
       "131        0.9240  \n",
       "103        0.9240  \n",
       "50         0.9235  \n",
       "35         0.9235  \n",
       "34         0.9235  "
      ]
     },
     "execution_count": 81,
     "metadata": {},
     "output_type": "execute_result"
    }
   ],
   "source": [
    "results = pd.DataFrame(results)\n",
    "results.sort_values(by='accuracy_val', ascending=False).head(20)"
   ]
  },
  {
   "cell_type": "code",
   "execution_count": 230,
   "metadata": {},
   "outputs": [
    {
     "name": "stdout",
     "output_type": "stream",
     "text": [
      "[LightGBM] [Info] Number of positive: 2915, number of negative: 13085\n",
      "[LightGBM] [Info] Auto-choosing col-wise multi-threading, the overhead of testing was 0.007867 seconds.\n",
      "You can set `force_col_wise=true` to remove the overhead.\n",
      "[LightGBM] [Info] Total Bins 9918\n",
      "[LightGBM] [Info] Number of data points in the train set: 16000, number of used features: 108\n",
      "[LightGBM] [Info] [binary:BoostFromScore]: pavg=0.182188 -> initscore=-1.501597\n",
      "[LightGBM] [Info] Start training from score -1.501597\n",
      "Accuracy for train data: 100.0%\n",
      "Accuracy for test data: 92.2%\n",
      "AUC: 0.8011981064890453\n"
     ]
    }
   ],
   "source": [
    "model = lgb.LGBMClassifier(boosting_type='gbdt', num_leaves=50, max_depth=-1, learning_rate=0.2, n_estimators=400, is_unbalance=True, objective='binary', metrics='auc')\n",
    "\n",
    "model.fit(X_train, y_train)\n",
    "\n",
    "y_bar = model.predict(X_train)\n",
    "y_pred = model.predict(X_val)\n",
    "\n",
    "print('Accuracy for train data: {}%'.format(accuracy_score(y_train, y_bar)*100))\n",
    "print('Accuracy for test data: {}%'.format(accuracy_score(y_val, y_pred)*100))\n",
    "print('AUC: {}'.format(roc_auc_score(y_val, y_pred)))"
   ]
  },
  {
   "cell_type": "code",
   "execution_count": 231,
   "metadata": {},
   "outputs": [
    {
     "data": {
      "text/plain": [
       "Text(50.722222222222214, 0.5, 'True')"
      ]
     },
     "execution_count": 231,
     "metadata": {},
     "output_type": "execute_result"
    },
    {
     "data": {
      "image/png": "[encoded data removed]",
      "text/plain": [
       "<Figure size 640x480 with 2 Axes>"
      ]
     },
     "metadata": {},
     "output_type": "display_data"
    }
   ],
   "source": [
    "cm = confusion_matrix(y_val, y_pred)\n",
    "sns.heatmap(cm, annot=True, fmt='d')\n",
    "plt.xlabel('Predicted')\n",
    "plt.ylabel('True')"
   ]
  },
  {
   "cell_type": "code",
   "execution_count": 232,
   "metadata": {},
   "outputs": [
    {
     "name": "stdout",
     "output_type": "stream",
     "text": [
      "              precision    recall  f1-score   support\n",
      "\n",
      "           0       0.92      0.99      0.95      1635\n",
      "           1       0.94      0.61      0.74       365\n",
      "\n",
      "    accuracy                           0.92      2000\n",
      "   macro avg       0.93      0.80      0.85      2000\n",
      "weighted avg       0.92      0.92      0.92      2000\n",
      "\n"
     ]
    }
   ],
   "source": [
    "print(classification_report(y_val, y_pred))"
   ]
  },
  {
   "cell_type": "code",
   "execution_count": 233,
   "metadata": {},
   "outputs": [
    {
     "name": "stdout",
     "output_type": "stream",
     "text": [
      "Precision: 94.09282700421942%\n",
      "Recall: 61.09589041095891%\n",
      "F1 Score: 74.08637873754152%\n"
     ]
    }
   ],
   "source": [
    "print(F'Precision: {precision_score(y_val, y_pred)*100}%')\n",
    "print(F'Recall: {recall_score(y_val, y_pred)*100}%')\n",
    "print(F'F1 Score: {f1_score(y_val, y_pred)*100}%')"
   ]
  },
  {
   "cell_type": "code",
   "execution_count": 255,
   "metadata": {},
   "outputs": [
    {
     "name": "stderr",
     "output_type": "stream",
     "text": [
      "c:\\Users\\HP\\AppData\\Local\\Programs\\Python\\Python312\\Lib\\site-packages\\lightgbm\\engine.py:204: UserWarning: Found `n_estimators` in params. Will use it instead of argument\n",
      "  _log_warning(f\"Found `{alias}` in params. Will use it instead of argument\")\n"
     ]
    },
    {
     "name": "stdout",
     "output_type": "stream",
     "text": [
      "[LightGBM] [Info] Number of positive: 2915, number of negative: 13085\n",
      "[LightGBM] [Info] Auto-choosing col-wise multi-threading, the overhead of testing was 0.011357 seconds.\n",
      "You can set `force_col_wise=true` to remove the overhead.\n",
      "[LightGBM] [Info] Total Bins 9918\n",
      "[LightGBM] [Info] Number of data points in the train set: 16000, number of used features: 108\n",
      "[LightGBM] [Info] [binary:BoostFromScore]: pavg=0.182188 -> initscore=-1.501597\n",
      "[LightGBM] [Info] Start training from score -1.501597\n",
      "AUC Score: 0.9194\n"
     ]
    }
   ],
   "source": [
    "params = {\n",
    "    'objective': 'binary',\n",
    "    'metric': 'auc',\n",
    "    'boosting_type': 'gbdt',\n",
    "    'learning_rate': 0.1,\n",
    "    'max_depth': -1,\n",
    "    'num_leaves': 80,\n",
    "    'n_estimators': 100,\n",
    "    'scale_pos_weight': len(y_train[y_train == 0]) / len(y_train[y_train == 1]),\n",
    "    # 'feature_fraction': 0.8\n",
    "}\n",
    "\n",
    "model = lgb.train(\n",
    "    params,\n",
    "    train_data,\n",
    "    num_boost_round=100,\n",
    "    valid_sets=[train_data, val_data],\n",
    ")\n",
    "\n",
    "y_pred_proba = model.predict(X_test)\n",
    "auc = roc_auc_score(y_test, y_pred_proba)\n",
    "print(f\"AUC Score: {auc:.4f}\")"
   ]
  },
  {
   "cell_type": "code",
   "execution_count": 256,
   "metadata": {},
   "outputs": [
    {
     "data": {
      "image/png": "[encoded data removed]",
      "text/plain": [
       "<Figure size 1000x600 with 1 Axes>"
      ]
     },
     "metadata": {},
     "output_type": "display_data"
    },
    {
     "name": "stdout",
     "output_type": "stream",
     "text": [
      "Optimal Threshold: 0.4338\n"
     ]
    }
   ],
   "source": [
    "fpr, tpr, thresholds = roc_curve(y_test, y_pred_proba)\n",
    "\n",
    "plt.figure(figsize=(10, 6))\n",
    "plt.plot(fpr, tpr, color='blue', lw=2, label=f'ROC Curve (AUC = {roc_auc_score(y_test, y_pred_proba):.4f})')\n",
    "plt.plot([0, 1], [0, 1], color='gray', linestyle='--') \n",
    "plt.xlabel('False Positive Rate')\n",
    "plt.ylabel('True Positive Rate')\n",
    "plt.title('Receiver Operating Characteristic (ROC) Curve')\n",
    "plt.legend(loc='lower right')\n",
    "plt.grid()\n",
    "plt.show()\n",
    "\n",
    "optimal_idx = np.argmax(tpr - fpr)\n",
    "optimal_threshold = thresholds[optimal_idx]\n",
    "print(f'Optimal Threshold: {optimal_threshold:.4f}')"
   ]
  },
  {
   "cell_type": "code",
   "execution_count": 257,
   "metadata": {},
   "outputs": [],
   "source": [
    "y_pred = np.where(y_pred_proba >= optimal_threshold, 1, 0)"
   ]
  },
  {
   "cell_type": "code",
   "execution_count": 258,
   "metadata": {},
   "outputs": [
    {
     "data": {
      "text/plain": [
       "Text(50.722222222222214, 0.5, 'True')"
      ]
     },
     "execution_count": 258,
     "metadata": {},
     "output_type": "execute_result"
    },
    {
     "data": {
      "image/png": "[encoded data removed]",
      "text/plain": [
       "<Figure size 640x480 with 2 Axes>"
      ]
     },
     "metadata": {},
     "output_type": "display_data"
    }
   ],
   "source": [
    "cm = confusion_matrix(y_test, y_pred)\n",
    "sns.heatmap(cm, annot=True, fmt='d')\n",
    "plt.xlabel('Predicted')\n",
    "plt.ylabel('True')"
   ]
  },
  {
   "cell_type": "code",
   "execution_count": 259,
   "metadata": {},
   "outputs": [
    {
     "name": "stdout",
     "output_type": "stream",
     "text": [
      "Accuracy for train data: 100.0%\n",
      "Accuracy for test data: 91.25%\n"
     ]
    }
   ],
   "source": [
    "print('Accuracy for train data: {}%'.format(accuracy_score(y_train, y_bar)*100))\n",
    "print('Accuracy for test data: {}%'.format(accuracy_score(y_test, y_pred)*100))"
   ]
  },
  {
   "cell_type": "code",
   "execution_count": 108,
   "metadata": {},
   "outputs": [
    {
     "name": "stdout",
     "output_type": "stream",
     "text": [
      "              precision    recall  f1-score   support\n",
      "\n",
      "           0       0.95      0.86      0.90      1636\n",
      "           1       0.56      0.80      0.66       364\n",
      "\n",
      "    accuracy                           0.85      2000\n",
      "   macro avg       0.76      0.83      0.78      2000\n",
      "weighted avg       0.88      0.85      0.86      2000\n",
      "\n"
     ]
    }
   ],
   "source": [
    "print(classification_report(y_test, y_pred))"
   ]
  },
  {
   "cell_type": "code",
   "execution_count": null,
   "metadata": {},
   "outputs": [],
   "source": []
  }
 ],
 "metadata": {
  "kernelspec": {
   "display_name": "Python 3",
   "language": "python",
   "name": "python3"
  },
  "language_info": {
   "codemirror_mode": {
    "name": "ipython",
    "version": 3
   },
   "file_extension": ".py",
   "mimetype": "text/x-python",
   "name": "python",
   "nbconvert_exporter": "python",
   "pygments_lexer": "ipython3",
   "version": "3.12.5"
  }
 },
 "nbformat": 4,
 "nbformat_minor": 2
}
