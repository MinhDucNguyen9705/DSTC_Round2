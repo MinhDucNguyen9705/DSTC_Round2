{
 "cells": [
  {
   "cell_type": "code",
   "execution_count": 1,
   "metadata": {},
   "outputs": [],
   "source": [
    "import numpy as np\n",
    "import pandas as pd\n",
    "import matplotlib.pyplot as plt\n",
    "import seaborn as sns\n",
    "from sklearn.preprocessing import StandardScaler\n",
    "import lightgbm as lgb \n",
    "from sklearn.model_selection import train_test_split\n",
    "from sklearn.metrics import accuracy_score\n",
    "from sklearn.metrics import confusion_matrix\n",
    "from sklearn.ensemble import RandomForestClassifier\n",
    "import xgboost as xgb"
   ]
  },
  {
   "cell_type": "code",
   "execution_count": 2,
   "metadata": {},
   "outputs": [],
   "source": [
    "df = pd.read_csv('01_dataset.csv', index_col='customer_id')\n",
    "df_imputed = pd.read_csv('cleaned_data.csv', index_col='customer_id')"
   ]
  },
  {
   "cell_type": "code",
   "execution_count": 25,
   "metadata": {},
   "outputs": [],
   "source": [
    "X = df_imputed.drop(columns='label')\n",
    "y = df_imputed['label']\n",
    "\n",
    "X_train, X_test, y_train, y_test = train_test_split(X, y, test_size=0.2, random_state=42, stratify=y)\n",
    "\n",
    "train_data = lgb.Dataset(X_train, label=y_train)\n",
    "test_data = lgb.Dataset(X_test, label=y_test)"
   ]
  },
  {
   "cell_type": "code",
   "execution_count": 44,
   "metadata": {},
   "outputs": [
    {
     "name": "stdout",
     "output_type": "stream",
     "text": [
      "[LightGBM] [Info] Number of positive: 2915, number of negative: 13085\n",
      "[LightGBM] [Info] Auto-choosing col-wise multi-threading, the overhead of testing was 0.007299 seconds.\n",
      "You can set `force_col_wise=true` to remove the overhead.\n",
      "[LightGBM] [Info] Total Bins 10148\n",
      "[LightGBM] [Info] Number of data points in the train set: 16000, number of used features: 110\n",
      "[LightGBM] [Info] [binary:BoostFromScore]: pavg=0.182188 -> initscore=-1.501597\n",
      "[LightGBM] [Info] Start training from score -1.501597\n"
     ]
    }
   ],
   "source": [
    "param = {'num_leaves': 75, 'objective': 'binary'}\n",
    "param['metric'] = 'auc'\n",
    "\n",
    "num_round = 65\n",
    "bst = lgb.train(param, train_data, num_round, valid_sets=[test_data])"
   ]
  },
  {
   "cell_type": "code",
   "execution_count": 45,
   "metadata": {},
   "outputs": [
    {
     "name": "stdout",
     "output_type": "stream",
     "text": [
      "Accuracy for train data: 93.7875%\n",
      "Accuracy for test data: 89.225%\n"
     ]
    }
   ],
   "source": [
    "ybar = bst.predict(X_train)\n",
    "ybar = [1 if x >= 0.5 else 0 for x in ybar]\n",
    "ypred = bst.predict(X_test)\n",
    "ypred = [1 if x >= 0.5 else 0 for x in ypred]\n",
    "print('Accuracy for train data: {}%'.format(accuracy_score(y_train, ybar)*100))\n",
    "print('Accuracy for test data: {}%'.format(accuracy_score(y_test, ypred)*100))"
   ]
  },
  {
   "cell_type": "code",
   "execution_count": 23,
   "metadata": {},
   "outputs": [
    {
     "name": "stdout",
     "output_type": "stream",
     "text": [
      "Accuracy for train data: 99.97500000000001%\n",
      "Accuracy for test data: 89.225%\n"
     ]
    }
   ],
   "source": [
    "model = RandomForestClassifier(n_estimators=100, random_state=42)\n",
    "model.fit(X_train, y_train)\n",
    "ybar = model.predict(X_train)\n",
    "ypred = model.predict(X_test)\n",
    "print('Accuracy for train data: {}%'.format(accuracy_score(y_train, ybar)*100))\n",
    "print('Accuracy for test data: {}%'.format(accuracy_score(y_test, ypred)*100))"
   ]
  },
  {
   "cell_type": "code",
   "execution_count": 24,
   "metadata": {},
   "outputs": [
    {
     "name": "stdout",
     "output_type": "stream",
     "text": [
      "Accuracy for train data: 98.36875%\n",
      "Accuracy for test data: 88.6%\n"
     ]
    }
   ],
   "source": [
    "model = xgb.XGBClassifier(n_estimators=100, random_state=42)\n",
    "model.fit(X_train, y_train)\n",
    "ybar = model.predict(X_train)\n",
    "ypred = model.predict(X_test)\n",
    "print('Accuracy for train data: {}%'.format(accuracy_score(y_train, ybar)*100))\n",
    "print('Accuracy for test data: {}%'.format(accuracy_score(y_test, ypred)*100))"
   ]
  },
  {
   "cell_type": "code",
   "execution_count": null,
   "metadata": {},
   "outputs": [],
   "source": []
  }
 ],
 "metadata": {
  "kernelspec": {
   "display_name": "Python 3",
   "language": "python",
   "name": "python3"
  },
  "language_info": {
   "codemirror_mode": {
    "name": "ipython",
    "version": 3
   },
   "file_extension": ".py",
   "mimetype": "text/x-python",
   "name": "python",
   "nbconvert_exporter": "python",
   "pygments_lexer": "ipython3",
   "version": "3.12.5"
  }
 },
 "nbformat": 4,
 "nbformat_minor": 2
}
